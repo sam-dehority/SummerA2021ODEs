{
 "cells": [
  {
   "cell_type": "markdown",
   "metadata": {
    "collapsed": false
   },
   "source": [
    "# Discontinuous Forcing Functions\n",
    "\n",
    "This notebook investigates linear differential equations of the form \n",
    "$$y'' + my' + ky = f(t), \\qquad k > 0, m \\ge 0$$\n",
    "which is exactly the forced damped oscillator. We will especially focus on the case where $m = 0$ ( the undamped case) and when $f(t)$ is a discontinuous function, like something of the type\n",
    "$$u(t - c) = \\begin{cases} 1 & t \\ge c\\\\ 0 & t < c\\end{cases}$$"
   ]
  },
  {
   "cell_type": "code",
   "execution_count": 1,
   "metadata": {
    "collapsed": false
   },
   "outputs": [
    {
     "data": {
      "image/png": "[encoded data removed]",
      "text/plain": [
       "Graphics object consisting of 1 graphics primitive"
      ]
     },
     "execution_count": 1,
     "metadata": {
     },
     "output_type": "execute_result"
    }
   ],
   "source": [
    "t = var('t')\n",
    "c = 5\n",
    "plot(unit_step(t-c), (t,0,10))"
   ]
  },
  {
   "cell_type": "markdown",
   "metadata": {
    "collapsed": false
   },
   "source": [
    "## Undamped case\n",
    "\n",
    "Here we focus on the undamped case, in which case we set $k = \\omega_f^2$. "
   ]
  },
  {
   "cell_type": "code",
   "execution_count": 1,
   "metadata": {
    "collapsed": false
   },
   "outputs": [
    {
     "data": {
      "application/vnd.jupyter.widget-view+json": {
       "model_id": "6067322b56d943f0888fa86a97f8eefa",
       "version_major": 2,
       "version_minor": 0
      },
      "text/plain": [
       "Interactive function <function plot_2nd_order_inhomogeneous at 0x7f802ac5f310> with 7 widgets\n",
       "  of: TransformF…"
      ]
     },
     "execution_count": 1,
     "metadata": {
     },
     "output_type": "execute_result"
    }
   ],
   "source": [
    "@interact\n",
    "def plot_2nd_order_inhomogeneous(of = slider(vmin = 0.1, vmax = 5, default = 2, step_size = 0.1, label = \"$\\\\omega_F$\"),\n",
    "                               oi = slider(vmin = 0.1, vmax = 6, default = 1.2, step_size = 0.02, label = 'square $\\\\omega$'), \n",
    "                               num_beats = slider([0,1,2,3,4,5,6,7,8,'infinity'], default = 2),\n",
    "                               beat_width = slider(vmin = 0.2, vmax = .9, default = .5, step_size = 0.05, label = 'square width'),\n",
    "                               tmax = slider(vmin = 5, vmax = 50, default = 20, step_size = 1, label = \"max $t$ value\"),\n",
    "                               ymax = slider(vmin = 3, vmax = 10, default = 5, step_size = 1, label = \"max $y$ value\"),\n",
    "                               forcing_term = checkbox(True, label = \"Plot forcing term\"),\n",
    "                               auto_update = True):\n",
    "    y0 = 0\n",
    "    yp0 = 0\n",
    "    t = var('t')\n",
    "    y,ydot = var('y,ydot')\n",
    "    m = 0\n",
    "    k = of^2\n",
    "    if num_beats == 'infinity':\n",
    "        num_beats = floor(oi*tmax/(2*pi)+1)\n",
    "    square = lambda c : unit_step(t -c) - unit_step(t-c - beat_width*2*pi/oi)\n",
    "    beat_starts = [2 + k*2*pi/oi for k in range(num_beats)]\n",
    "    #f(t) = unit_step(t-1) - unit_step(t-2) + unit_step(t-4) - unit_step(t-5)\n",
    "    f(t) = sum(square(c)(t) for c in beat_starts)\n",
    "    des = [ ydot,-m*ydot - k*y + f(t)]\n",
    "    sol = desolve_system_rk4(des, [y,ydot], ivar = t, ics = [0,y0,yp0],end_points = tmax)\n",
    "    soly = [(a,b) for (a,b,c) in sol]\n",
    "    plt = list_plot(soly, plotjoined = True,\n",
    "              title = \"Solution plot, $\\\\omega_{sq} = \" + str(oi.numerical_approx(digits = 1)) + \"$\", axes_labels = ['$t$', '$y$'], legend_label = \"$y(t)$\")\n",
    "    if forcing_term:\n",
    "        plt += plot(f, (t, 0, tmax), color = 'orange', alpha = 0.4, thickness =1.1, legend_label = \"forcing term\")\n",
    "    show(plt, ymin = -ymax, ymax = ymax, figsize = 6)"
   ]
  },
  {
   "cell_type": "markdown",
   "metadata": {
    "collapsed": false
   },
   "source": [
    "# Damped case\n",
    "\n",
    "Now we consider the damped case, where $m$ and $k$ are arbitrary, and we no longer write them in terms of $\\omega_f$. "
   ]
  },
  {
   "cell_type": "code",
   "execution_count": 2,
   "metadata": {
    "collapsed": false
   },
   "outputs": [
    {
     "data": {
      "application/vnd.jupyter.widget-view+json": {
       "model_id": "994e62a8253f43a384a7a5e76692cfe3",
       "version_major": 2,
       "version_minor": 0
      },
      "text/plain": [
       "Interactive function <function plot_2nd_order_inhomogeneous at 0x7f8017110550> with 8 widgets\n",
       "  m: TransformFl…"
      ]
     },
     "execution_count": 2,
     "metadata": {
     },
     "output_type": "execute_result"
    }
   ],
   "source": [
    "@interact\n",
    "def plot_2nd_order_inhomogeneous(m = slider(vmin = 0, vmax = 5, default = 0.3, step_size = 0.05, label = \"$m$\"),\n",
    "                               k = slider(vmin = 0.3, vmax = 3, default = 1.2, step_size = 0.05, label = \"$k$\"),\n",
    "                               oi = slider(vmin = 0.1, vmax = 6, default = 1.2, step_size = 0.02, label = 'square $\\\\omega$'), \n",
    "                               num_beats = slider([0,1,2,3,4,5,6,7,8,'infinity'], default = 1),\n",
    "                               beat_width = slider(vmin = 0.2, vmax = .9, default = .5, step_size = 0.05, label = 'square width'),\n",
    "                               tmax = slider(vmin = 5, vmax = 50, default = 20, step_size = 1, label = \"max $t$ value\"),\n",
    "                               ymax = slider(vmin = 3, vmax = 10, default = 5, step_size = 1, label = \"max $y$ value\"),\n",
    "                               forcing_term = checkbox(True, label = \"Plot forcing term\"),\n",
    "                               auto_update = True):\n",
    "    y0 = 0\n",
    "    yp0 = 0\n",
    "    t = var('t')\n",
    "    y,ydot = var('y,ydot')\n",
    "    if num_beats == 'infinity':\n",
    "        num_beats = floor(oi*tmax/(2*pi)+1)\n",
    "    square = lambda c : unit_step(t -c) - unit_step(t-c - beat_width*2*pi/oi)\n",
    "    beat_starts = [2 + k*2*pi/oi for k in range(num_beats)]\n",
    "    #f(t) = unit_step(t-1) - unit_step(t-2) + unit_step(t-4) - unit_step(t-5)\n",
    "    f(t) = sum(square(c)(t) for c in beat_starts)\n",
    "    des = [ ydot,-m*ydot - k*y + f(t)]\n",
    "    sol = desolve_system_rk4(des, [y,ydot], ivar = t, ics = [0,y0,yp0],end_points = tmax)\n",
    "    soly = [(a,b) for (a,b,c) in sol]\n",
    "    plt = list_plot(soly, plotjoined = True,\n",
    "              title = \"Solution plot, $\\\\omega_{sq} = \" + str(oi.numerical_approx(digits = 1)) + \"$\", axes_labels = ['$t$', '$y$'], legend_label = \"$y(t)$\")\n",
    "    if forcing_term:\n",
    "        plt += plot(f, (t, 0, tmax), color = 'orange', alpha = 0.4, thickness =1.1, legend_label = \"forcing term\")\n",
    "    show(plt, ymin = -ymax, ymax = ymax, figsize = 6)"
   ]
  },
  {
   "cell_type": "code",
   "execution_count": 0,
   "metadata": {
    "collapsed": false
   },
   "outputs": [
   ],
   "source": [
   ]
  }
 ],
 "metadata": {
  "kernelspec": {
   "display_name": "SageMath 9.2",
   "language": "sagemath",
   "metadata": {
    "cocalc": {
     "description": "Open-source mathematical software system",
     "priority": 1,
     "url": "https://www.sagemath.org/"
    }
   },
   "name": "sage-9.2",
   "resource_dir": "/ext/jupyter/kernels/sage-9.2"
  },
  "language_info": {
   "codemirror_mode": {
    "name": "ipython",
    "version": 3
   },
   "file_extension": ".py",
   "mimetype": "text/x-python",
   "name": "python",
   "nbconvert_exporter": "python",
   "pygments_lexer": "ipython3",
   "version": "3.8.5"
  }
 },
 "nbformat": 4,
 "nbformat_minor": 4
}