{
 "cells": [
  {
   "cell_type": "markdown",
   "metadata": {
    "collapsed": false
   },
   "source": [
    "# Hypergeometric and Bessel Functions\n",
    "\n",
    "We have seen that the (generalized) hypergeometric functions \n",
    "$$_p F_q(\\alpha_1, \\ldots, \\alpha_p | \\beta_1, \\ldots, \\beta_q; x) = \\sum_{n=0}^\\infty \\frac {(\\alpha_1)_n \\cdots (\\alpha_p)_n}{n!(\\beta_1)_n \\cdots (\\beta_q)_n} x^n$$ where $(a)_n = a(a+1)(a+2) \\cdots (a+n-1)$ naturally give solutions to a wide variety of differential equations with regular singular points after some change of variables. In particular the case $p = 2, q = 1$ corresponding to the hypergeometric function \n",
    "$$_2 F_1(\\alpha, \\beta | \\gamma; x) = \\sum_{n=0}^\\infty \\frac {(\\alpha)_n(\\beta)_n}{n!(\\gamma)_n} x^n$$\n",
    "is the expansion around $x = 0$ of one of the solutions of the hypergeometric equation \n",
    "$$x(1-x)y'' + (\\gamma - (1+ \\alpha + \\beta )x) y' -\\alpha\\beta y =0$$\n",
    "and any 2nd order linear ODE with 3 regular singular points (including at $\\infty$ ) at $x_1,x_2$ and $x_3$ can be transformed into this equation via a change of coordinates given by a mobius transformation $x \\mapsto (ax+b)/(cx+d)$. Specifically the transformation is\n",
    "$$x' = \\frac{(x-x_1)(x_2-x_3)}{(x-x_3)(x_2-x_1)}$$\n",
    "sending $x_1,x_2,x_3$ to $0,1,\\infty$. \n",
    "\n",
    "We'll focus on two examples of limits of these functions: Chebyshev polynomials and Bessel functions.\n",
    "\n",
    "## Chebyshev polynomials\n",
    "\n",
    "These are solutions to the **Chebyshev equation** for integral $n$\n",
    "$$(1-x^2)y'' -xy' + n^2 y = 0, \\qquad n \\in \\mathbb{Z}$$\n",
    "which are additionally required to be polynomials and satisfy a normalization requirement. The first examples are \n",
    "|$n$ | $T_n(x)$|\n",
    "|---|---|\n",
    "|0 | $1$| \n",
    "|1 | $x$|\n",
    "|2 | $2x^2 -1$| \n",
    "|3 | $4x^3 - 3x$| \n",
    "|4 | $8x^4 - 8x^2 + 1$| \n",
    "|5 | $16x^5 - 20x^3 + 5x$| \n",
    "\n",
    "The Chebyshev equation has regular singular points at $1, -1$ and $\\infty$ so the relevant Mobius transformation sends $1,-1, \\infty$ to $0,1,\\infty$  is $x\\mapsto \\frac 1 2(1-x)$. Since our solution actually has integral powers of $x$, it follows that $_2F_1(\\alpha, \\beta | \\gamma;\\frac 1 2(1-x) )$ is a solution to the Chebyshev equation for some $\\alpha, \\beta,\\gamma$ and it is not hard to show the right values are $\\alpha = n, \\beta = -n, \\gamma = 1/2$. It also turns out to be the case that $T_n(x) = {}_2F_1(\\alpha, \\beta | \\gamma;\\frac 1 2(1-x) )$. \n",
    "\n",
    "Below we plot $_2 F_1(\\alpha, \\beta | \\gamma; z)$ for chosen values of the parameters and chosen expression for $z$. Pick appropriate values to see how it matches the Chebyshev polynomials. "
   ]
  },
  {
   "cell_type": "code",
   "execution_count": 1,
   "metadata": {
    "collapsed": false
   },
   "outputs": [
    {
     "data": {
      "application/vnd.jupyter.widget-view+json": {
       "model_id": "04cb1ae5bd564c59897f68af04f5e637",
       "version_major": 2,
       "version_minor": 0
      },
      "text/plain": [
       "Interactive function <function hypergeometric_chebyshev at 0x7f0620a5ff70> with 5 widgets\n",
       "  a: TransformFloatS…"
      ]
     },
     "execution_count": 1,
     "metadata": {
     },
     "output_type": "execute_result"
    }
   ],
   "source": [
    "@interact\n",
    "def hypergeometric_chebyshev(\n",
    "    a = slider(-10,10,default = 0,  step_size = .1, label = '$\\\\alpha$'),\n",
    "    b = slider(-10,10,default = 0,  step_size = .1, label = '$\\\\beta$'),\n",
    "    g = slider(-10,10,default = .2,  step_size = .1, label = '$\\\\gamma$'),\n",
    "    n = (\"$T_n(x)$\", slider([0,1,2,3,4,5,6,7,8,9,10])),\n",
    "    z = input_box(default = 1/2*(1-x), label = \"$z = f(x)$\")\n",
    "    ):\n",
    "    x = var('x')\n",
    "    chebyshev = chebyshev_T(n,x)\n",
    "    zstr = latex(simplify(z(x=x)))\n",
    "    title = '$T_{' + str(n) + '}(x)$ and $_2F_1(\\\\alpha, \\\\beta | \\\\gamma;' + zstr + ')$'\n",
    "    ch_plot = plot(chebyshev, (x,-1,1), color = 'blue', title = title, legend_label  = '$T_{' + str(n) + '}(x)$')\n",
    "    hyperplot = plot(hypergeometric([a,b], [g], z(x  =x)), (x,-1,1), color = 'red', legend_label = \"$_2F_1(\\\\alpha, \\\\beta | \\\\gamma;\" + zstr + ')$', ymin = -1, ymax = 1)\n",
    "    show(ch_plot + hyperplot, figsize = 7)"
   ]
  },
  {
   "cell_type": "markdown",
   "metadata": {
    "collapsed": false
   },
   "source": [
    "## Bessel functions\n",
    "\n",
    "Bessel functions are solutions to Bessel's equation \n",
    "$$x^2y'' +xy' + (x^2 - \\nu^2)y = 0$$\n",
    "Which has just one regular singular point, at $x=0$ but an *irregular* singular point at $x = \\infty$. The solution to the Bessel equation which is bounded at $x = 0$ is denoted \n",
    "$$J_\\nu(x).$$\n",
    "This is called the **Bessel function of the first kind of order** $\\mathbf{\\nu}$. \n",
    "\n",
    "The other solution can be found using the Frobenius method but it is convenient to take a particular normalization called the **Bessel function of the second kind of order** $\\mathbf{\\nu}$ which is denoted $$Y_{\\nu}(x)$$. (See [wikipedia](https://en.wikipedia.org/wiki/Bessel_function#Bessel_functions_of_the_second_kind) for various formulas for it, and it's description in terms of the Frobenius method).  But in particular it blows up at $x = 0$: we have $\\lim_{x \\to 0}Y_{\\nu}(x) = -\\infty$. \n",
    "\n",
    "The general solution to Bessel's equation is \n",
    "$$c_1 J_{\\nu}(x) + c_2 Y_{\\nu}(x).$$\n",
    "\n",
    "We want to investigate the solution to this equation in terms of hypergeometric functions, and so we seek a way to find a transformation that gives a hypergeometric equation an irregular singular point. \n",
    "A great way to produce irregular singluar points is to collide two regular singular points. If we want to produce an irregular singular point at infinity we can consider the a transformation of the hypergeometric equation \n",
    "where take the Mobius trasformation sending $0,1,\\infty$ to $0,\\beta,\\infty$ and then send $\\beta \\to \\infty$. Our hypergeometric ODE\n",
    " from before becomes \n",
    "$$xy'' + (\\gamma - x)y' - \\alpha y = 0$$\n",
    "and one solution is \n",
    "$$\\lim_{\\beta \\to \\infty} {}_2 F_1(\\alpha, \\beta | \\gamma; \\frac {x} {\\beta}) = {}_1 F_1(\\alpha | \\gamma;x).$$\n",
    "\n",
    "The other independent solution is easy to express in terms of ${}_1 F_1$ when $1-\\gamma$ is not an integer, and has another expression when it is. This function ${}_1F_1$ is called the **confluent hypergeometric function** (of the first kind).\n",
    "\n",
    "To make contact with Bessel functions, we have to make a few additional transformations. First we must take an additional limit in order to get a constant coefficient for $y$. Namely we take the transformation $x\\mapsto x/\\alpha$ and take $\\alpha \\to \\infty$: our equation becomes \n",
    "$$xy'' + \\gamma y' - y = 0$$\n",
    "with first solution \n",
    "$$\\lim_{\\alpha \\to \\infty} {}_1 F_1(\\beta | \\gamma; \\frac {x} {\\alpha}) = {}_0 F_1( | \\gamma;x).$$\n",
    "The other solution can be reproduced similarly. After some work we can show that the change of variables $x = -(z/2)^2$ transforms the previous equation into the Bessel equation and in particular we get \n",
    "$$J_\\nu(x) = c x^{\\nu}{}_0 F_1(| \\nu + 1; -\\frac{1}{4} x^2)$$ for a constant $c$ which, to coincide with usual conventions, is taken to be \n",
    "$$c = \\frac{2^{-\\nu}}{\\Gamma(\\nu + 1)}$$"
   ]
  },
  {
   "cell_type": "code",
   "execution_count": 3,
   "metadata": {
    "collapsed": false
   },
   "outputs": [
    {
     "data": {
      "application/vnd.jupyter.widget-view+json": {
       "model_id": "d0a084dc6cf940bcb927384ff5540327",
       "version_major": 2,
       "version_minor": 0
      },
      "text/plain": [
       "Manual interactive function <function hypergeometric_Bessel at 0x7f23787d4670> with 4 widgets\n",
       "  nu: TransformF…"
      ]
     },
     "execution_count": 3,
     "metadata": {
     },
     "output_type": "execute_result"
    }
   ],
   "source": [
    "import warnings\n",
    "warnings.filterwarnings(\"ignore\", category=DeprecationWarning)\n",
    "@interact\n",
    "def hypergeometric_Bessel(\n",
    "        nu = slider(-10,10,default = 0,  step_size = .1, label = '$\\\\nu$'),\n",
    "        g = slider(-10,10,default = .2,  step_size = .1, label = '$\\\\gamma$'),\n",
    "        z = input_box(default = -1/4*x^2, label = \"$z = f(x)$\"),\n",
    "        second = checkbox(label = \"Also plot $Y_{\\\\nu}(x)$?\", default = False),\n",
    "        auto_update = False\n",
    "    ):\n",
    "    x = var('x')\n",
    "    nu = nu.numerical_approx(digits = 2)\n",
    "    zstr = latex(simplify(z(x=x)))\n",
    "    title = '$J_{' + str(nu) + '}(x)$ and $cx^{\\\\nu}{}_0F_1( | \\\\gamma;' + zstr + ')$'\n",
    "    j_plot = plot(bessel_J(nu,x), (x,0,10), color = 'blue', title = title, legend_label  = '$J_{' + str(nu) + '}(x)$')\n",
    "    gamma_nu_p_1_inv = 1/(factorial(nu + 1 - 1))\n",
    "    hyperplot = plot(2^(-nu)*x^nu*gamma_nu_p_1_inv*hypergeometric([], [g], z(x  =x)), (x,0,10), color = 'red', legend_label = '$cx^{\\\\nu}{}_0F_1( | \\\\gamma;' + zstr + ')$')\n",
    "    show(LatexExpr(\"\\\\text{Try setting  }\\\\gamma = \\\\nu + 1\"))\n",
    "    out = j_plot + hyperplot\n",
    "    if second:\n",
    "        out += plot(bessel_Y(nu, x), (x,0,10), color = 'magenta', legend_label = '$Y_{' + str(nu) + '}(x)$', thickness = .3)\n",
    "    show(out, figsize = 7)"
   ]
  }
 ],
 "metadata": {
  "kernelspec": {
   "display_name": "SageMath 9.2",
   "language": "sagemath",
   "metadata": {
    "cocalc": {
     "description": "Open-source mathematical software system",
     "priority": 1,
     "url": "https://www.sagemath.org/"
    }
   },
   "name": "sage-9.2",
   "resource_dir": "/ext/jupyter/kernels/sage-9.2"
  },
  "language_info": {
   "codemirror_mode": {
    "name": "ipython",
    "version": 3
   },
   "file_extension": ".py",
   "mimetype": "text/x-python",
   "name": "python",
   "nbconvert_exporter": "python",
   "pygments_lexer": "ipython3",
   "version": "3.8.5"
  }
 },
 "nbformat": 4,
 "nbformat_minor": 4
}