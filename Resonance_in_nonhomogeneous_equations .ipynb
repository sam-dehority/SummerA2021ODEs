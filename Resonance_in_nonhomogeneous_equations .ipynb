{
 "cells": [
  {
   "cell_type": "markdown",
   "metadata": {
    "collapsed": false
   },
   "source": [
    "# Resonance in non-homogeneous equations\n",
    "\n",
    "We have used the method of variation of parameters to consider the non-homogeneous equation\n",
    "$$y'' + \\omega_F^2 y = cos(\\omega_I t)$$\n",
    "when $\\omega_F \\neq \\omega_I$ and also when $\\omega_F = \\omega_I$. Somewhat remarkably, we get different behavior for the formula of the solutions in the two cases. The general solution to the *associated homogeneous equation* is the same \n",
    "$$c_1 \\cos(\\omega_F t) + c_2 \\sin(\\omega_F t), \\qquad c_1, c_2 \\in \\mathbb{R}$$\n",
    "but our particular solution depends on $\\omega_I$. We have \n",
    "$$P(t) = \\begin{cases} \\frac{1}{\\omega_F^2 - \\omega_I^2} \\cos(\\omega_I t) &  \\omega_F \\neq \\omega_I \\\\ \\frac{t}{2\\omega_F} \\sin(\\omega_I t) & \\omega_F = \\omega_I\\end{cases}.$$ This notebook lets us study the solutions to an IVP $y(0) = y_0, y'(0) = y_0'$ as we vary $\\omega_I$ to approach $\\omega_S$ and see that, despite the formula for the solutions being different, the solutions to the IVP vary nicely as $\\omega_I$ varies. "
   ]
  },
  {
   "cell_type": "code",
   "execution_count": 3,
   "metadata": {
    "collapsed": false
   },
   "outputs": [
    {
     "data": {
      "application/vnd.jupyter.widget-view+json": {
       "model_id": "4f9866426dd4471c86cfc3f4fe74c9cb",
       "version_major": 2,
       "version_minor": 0
      },
      "text/plain": [
       "Interactive function <function plot_2nd_order_inhomogeneous at 0x7f076c837940> with 7 widgets\n",
       "  of: TransformF…"
      ]
     },
     "execution_count": 3,
     "metadata": {
     },
     "output_type": "execute_result"
    }
   ],
   "source": [
    "@interact\n",
    "def plot_2nd_order_inhomogeneous(of = slider(vmin = 0.1, vmax = 5, default = 2, step_size = 0.1, label = \"$\\\\omega_F$\"),\n",
    "                               oi = slider(vmin = 0.1, vmax = 6, default = 1.2, step_size = 0.02, label = '$\\\\omega_I$'), \n",
    "                               y0 = slider(vmin = -3, vmax = 3, default = .2, step_size = 0.05, label = '$y(0) = $'),\n",
    "                               yp0 = slider(vmin = -3, vmax = 3, default = 0, step_size = 0.05, label = '$y\\'(0) = $'),\n",
    "                               tmax = slider(vmin = 5, vmax = 50, default = 30, step_size = 1, label = \"max $t$ value\"),\n",
    "                               non_forced = checkbox(False, label = \"Plot sol. to homog. eq.\"),\n",
    "                               forcing_term = checkbox(True, label = \"Plot forcing term\"),\n",
    "                               auto_update = True):\n",
    "    t = var('t')\n",
    "    cv1, cv2 = var('cv1,cv2')\n",
    "    o_f = of.numerical_approx(digits = 3)\n",
    "    o_i = oi.numerical_approx(digits = 3)\n",
    "    P(t) = t/(2*o_f)*sin(o_i*t) if o_f == o_i else 1/(o_f^2 - o_i^2)*cos(o_i*t)\n",
    "    solve_c = solve([cv1*cos(0) + cv2*sin(0) + P(t = 0) == y0,\n",
    "                     -cv1*o_f*sin(0) + cv2*o_f*cos(0) + diff(P(t), t)(t = 0) == yp0], \n",
    "                   cv1, cv2, solution_dict = True)\n",
    "    c1,c2 = solve_c[0][cv1], solve_c[0][cv2]\n",
    "    ivp_sol(t) = c1*cos(o_f*t) + c2*sin(o_f*t) + P(t)\n",
    "    plt = plot(ivp_sol, (t,0, tmax), \n",
    "              title = \"Solution plot\", axes_labels = ['$t$', '$y$'], legend_label = \"$y(t)$\")\n",
    "    if non_forced:\n",
    "        solve_c_nf = solve([cv1*cos(0) + cv2*sin(0) == y0,\n",
    "                     -cv1*o_f*sin(0) + cv2*o_f*cos(0) == yp0],\n",
    "                   cv1, cv2, solution_dict = True)\n",
    "        c1nf,c2nf = solve_c_nf[0][cv1], solve_c_nf[0][cv2]\n",
    "        plt += plot(c1nf*cos(o_f*t) + c2nf*sin(o_f*t), (t, 0, tmax), color = 'red', alpha = 0.2, thickness = 1 , legend_label = \"homog. sol'n\")\n",
    "    if forcing_term:\n",
    "        plt += plot(cos(o_i*t), (t, 0, tmax), color = 'orange', alpha = 0.3, thickness =1, legend_label = \"forcing term\")\n",
    "    show(plt, ymin = -10, ymax = 10, figsize = 6)"
   ]
  },
  {
   "cell_type": "code",
   "execution_count": 0,
   "metadata": {
    "collapsed": false
   },
   "outputs": [
   ],
   "source": [
   ]
  }
 ],
 "metadata": {
  "kernelspec": {
   "display_name": "SageMath 9.2",
   "language": "sagemath",
   "metadata": {
    "cocalc": {
     "description": "Open-source mathematical software system",
     "priority": 10,
     "url": "https://www.sagemath.org/"
    }
   },
   "name": "sage-9.2",
   "resource_dir": "/ext/jupyter/kernels/sage-9.2"
  },
  "language_info": {
   "codemirror_mode": {
    "name": "ipython",
    "version": 3
   },
   "file_extension": ".py",
   "mimetype": "text/x-python",
   "name": "python",
   "nbconvert_exporter": "python",
   "pygments_lexer": "ipython3",
   "version": "3.8.5"
  }
 },
 "nbformat": 4,
 "nbformat_minor": 4
}