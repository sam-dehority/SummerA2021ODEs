{
 "cells": [
  {
   "cell_type": "markdown",
   "metadata": {
    "collapsed": false
   },
   "source": [
    "# Critical points of Non-linear systems\n",
    "\n",
    "We have seen that the *qualitative* behavior autonomous systems \n",
    "$$\\mathbf{x}' = F(\\mathbf{x})$$\n",
    "\n",
    "can usually be understood *locally*, and it splits into two cases: \n",
    "\n",
    "1. Near non-critical points, by continuity, nearby trajectories all point in roughly the same direction. \n",
    "2. Near (isolated, non-degenerate) critical-points we can analyze the local behavior by linearizing the problem, and studying the linear problem \n",
    "\n",
    "$$\\mathbf{x}' = J(\\mathbf{x}_{crit}) \\mathbf{x}$$\n",
    "where $\\mathbf{x}_{crit}$ is the critical point and $J(\\mathbf{x})$ is the Jacobian of $F$ at $\\mathbf{x}$. \n",
    ".\n",
    "We will investigate this technique and its limitations in describing global beaviour by analyzing [Rossler system](https://en.wikipedia.org/wiki/R%C3%B6ssler_attractor), the system of ODEs\n",
    "\n",
    "$$\\begin{align*}x' &= -y-z\\\\\n",
    "y' &= x+ ay\\\\\n",
    "z' &= b + z(x - c)\\end{align*}$$"
   ]
  },
  {
   "cell_type": "code",
   "execution_count": 5,
   "metadata": {
    "collapsed": false
   },
   "outputs": [
    {
     "data": {
      "application/vnd.jupyter.widget-view+json": {
       "model_id": "e5a92e1813bf4517bb27bbf078b84d44",
       "version_major": 2,
       "version_minor": 0
      },
      "text/plain": [
       "Manual interactive function <function rossler_plot at 0x7f21d188f0d0> with 5 widgets\n",
       "  a: TransformFloatSlider…"
      ]
     },
     "execution_count": 5,
     "metadata": {
     },
     "output_type": "execute_result"
    }
   ],
   "source": [
    "import warnings\n",
    "warnings.filterwarnings(\"ignore\", category=UserWarning)\n",
    "x,y,z=var('x,y,z')\n",
    "a0=0.2 # 10\n",
    "b0= 0.2  #28\n",
    "c0=5.7\n",
    "\n",
    "@interact\n",
    "def rossler_plot(a = slider(0,3, default = a0,step_size = 0.05, label = '$a$'),\n",
    "                b = slider(0,3, default = b0,step_size = 0.05, label = '$b$'),\n",
    "                c = slider(0,3, default = c0,step_size = 0.1, label = '$c$'),\n",
    "                tmax = slider(100,1000, default = 250,step_size = 10, label = 't_max'),\n",
    "                ics = input_box(default = [1,1,1], label = \"Initial condition\"),\n",
    "                auto_update = False):\n",
    "    rossler=[-y-z,x + a*y,b + z*(x - c)]\n",
    "    Jacobian = lambda x0,y0,z0: Matrix([[0,-1,-1],[1,a,0],[z0, 0, x0 - c]])\n",
    "    N=25000\n",
    "    h=tmax/N\n",
    "    times=srange(0,tmax+h,h)\n",
    "    sol=desolve_odeint(rossler,ics,times,[x,y,z],rtol=1e-13,atol=1e-14)\n",
    "    crits_dict = solve([rhs == 0 for rhs in rossler], [x,y,z], solution_dict = True)\n",
    "    crits = [(s[x].numerical_approx(digits = 2), s[y].numerical_approx(digits = 2), s[z].numerical_approx(digits = 2)) for s in crits_dict]\n",
    "    show(line(sol) + sum(sphere(crit,0.2, color = 'red') for crit in crits))\n",
    "    for crit in crits:\n",
    "        show(\"Critical point:\")\n",
    "        show(crit)\n",
    "        Jf = Jacobian(crit[0], crit[1], crit[2])\n",
    "        show('J_f = ' + latex(Jf) )\n",
    "        evals = [a.numerical_approx(digits = 2) for a in Jf.eigenvalues()]\n",
    "        show('eigenvalues = ' + latex(evals))"
   ]
  },
  {
   "cell_type": "markdown",
   "metadata": {
    "collapsed": false
   },
   "source": [
    "## Try the following initial values to see some local behavior near critical points\n",
    "\n",
    "1. Initial condition $[.015, -0.07, 3]$ to see the local behaviour near the critial point that solutions tend to go towards\n",
    "2. Initial condition $[0,12, 7]$ to see spiraling around the second critial point while it gets further away from that point exponentially, as consistent with the eigenvalues. \n",
    "\n",
    "If we pick an initial condition too close to the second critical point, the computer has a hard time plotting the entire graph because of how unstable this point is, but you can infer the behavior from the second listed initial condition. "
   ]
  }
 ],
 "metadata": {
  "kernelspec": {
   "display_name": "SageMath 9.2",
   "language": "sagemath",
   "metadata": {
    "cocalc": {
     "description": "Open-source mathematical software system",
     "priority": 1,
     "url": "https://www.sagemath.org/"
    }
   },
   "name": "sage-9.2",
   "resource_dir": "/ext/jupyter/kernels/sage-9.2"
  },
  "language_info": {
   "codemirror_mode": {
    "name": "ipython",
    "version": 3
   },
   "file_extension": ".py",
   "mimetype": "text/x-python",
   "name": "python",
   "nbconvert_exporter": "python",
   "pygments_lexer": "ipython3",
   "version": "3.8.5"
  }
 },
 "nbformat": 4,
 "nbformat_minor": 4
}