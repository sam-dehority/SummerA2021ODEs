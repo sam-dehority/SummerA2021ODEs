{
 "cells": [
  {
   "cell_type": "markdown",
   "metadata": {
    "collapsed": false
   },
   "source": [
    "# Slope fields and integral curves\n",
    "\n",
    "This notebook contains two interactive elements: \n",
    "\n",
    "### 1. Plotting slope fields \n",
    "\n",
    "The first lets you input a function \n",
    "$$f(x,y)$$ into a box and it plots the slope field of the differential equation \n",
    "$$\\frac{dy}{dx} = f(x,y).$$"
   ]
  },
  {
   "cell_type": "code",
   "execution_count": 1,
   "metadata": {
    "collapsed": false
   },
   "outputs": [
    {
     "data": {
      "application/vnd.jupyter.widget-view+json": {
       "model_id": "c239ecf6e5f84242b47ba8e8cb8fae84",
       "version_major": 2,
       "version_minor": 0
      },
      "text/plain": [
       "Interactive function <function show_slope_field at 0x7f2268c4d3a0> with 3 widgets\n",
       "  xrange: TransformFloatSlid…"
      ]
     },
     "execution_count": 1,
     "metadata": {
     },
     "output_type": "execute_result"
    }
   ],
   "source": [
    "x,y = var('x,y')\n",
    "@interact\n",
    "def show_slope_field(xrange = slider(1, 10, .5, default = 3), yrange = slider(1,10, .5, default = 3), f = ('$f$', sin(x) + y)):\n",
    "    show(plot_slope_field(f, (x,-xrange,xrange), (y,-yrange,yrange)))"
   ]
  },
  {
   "cell_type": "markdown",
   "metadata": {
    "collapsed": false
   },
   "source": [
    "### 2. Plotting slope fields with integral curves\n",
    "\n",
    "This function allows you to specify, together with a differential equation as in the last problem, a list of initial conditions $y(0) = y_1, \\ldots, y_k$ and plots the slope field together with the plots of the integral curves \n",
    "which pass through the points $(0, y_i)$. "
   ]
  },
  {
   "cell_type": "code",
   "execution_count": 28,
   "metadata": {
    "collapsed": false
   },
   "outputs": [
    {
     "data": {
      "application/vnd.jupyter.widget-view+json": {
       "model_id": "89d319ba6b034c06aa39cde04262d320",
       "version_major": 2,
       "version_minor": 0
      },
      "text/plain": [
       "Interactive function <function show_slope_field_with_integral_curves at 0x7fcd819b2940> with 4 widgets\n",
       "  xrang…"
      ]
     },
     "execution_count": 28,
     "metadata": {
     },
     "output_type": "execute_result"
    }
   ],
   "source": [
    "x,y = var('x,y')\n",
    "@interact\n",
    "def show_slope_field_with_integral_curves(xrange = slider(1, 10, .5, default = 3), yrange = slider(1,10, .5, default = 3), f = ('$f$', sin(x) + y), y0s = input_box([1,2], label = '$y(0) = $')):\n",
    "    lines = []\n",
    "    for y0 in y0s:\n",
    "        sol = desolve_rk4(f, y, [0, y0], end_points = [-xrange, xrange], step = 0.005)\n",
    "        start, end = 0, len(sol)-1\n",
    "        for i in range(len(sol)):\n",
    "            (a,b) = sol[i]\n",
    "            if (a < 0) and not((-yrange - 0.1 < b < yrange  + 0.1)  and (abs(f(x = a + 1e-9, y = b + 1e-9)) < 30)) :\n",
    "                start = i + 1\n",
    "            if (a >= 0) and not( (-yrange - 0.1 < b < yrange  + 0.1)  and (abs(f(x = a + 1e-9, y = b + 1e-9)) < 30)):\n",
    "                end = i\n",
    "                break\n",
    "        lines.append(line(sol[start:end]))\n",
    "    show(plot_slope_field(f, (x,-xrange,xrange), (y,-yrange,yrange)) + sum(lines))"
   ]
  },
  {
   "cell_type": "code",
   "execution_count": 0,
   "metadata": {
    "collapsed": false
   },
   "outputs": [
   ],
   "source": [
   ]
  }
 ],
 "metadata": {
  "kernelspec": {
   "display_name": "SageMath 9.2",
   "language": "sagemath",
   "metadata": {
    "cocalc": {
     "description": "Open-source mathematical software system",
     "priority": 10,
     "url": "https://www.sagemath.org/"
    }
   },
   "name": "sage-9.2",
   "resource_dir": "/ext/jupyter/kernels/sage-9.2"
  },
  "language_info": {
   "codemirror_mode": {
    "name": "ipython",
    "version": 3
   },
   "file_extension": ".py",
   "mimetype": "text/x-python",
   "name": "python",
   "nbconvert_exporter": "python",
   "pygments_lexer": "ipython3",
   "version": "3.8.5"
  }
 },
 "nbformat": 4,
 "nbformat_minor": 4
}