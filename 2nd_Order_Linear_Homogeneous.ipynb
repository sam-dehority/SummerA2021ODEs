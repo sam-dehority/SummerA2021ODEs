{
 "cells": [
  {
   "cell_type": "markdown",
   "metadata": {
    "collapsed": false
   },
   "source": [
    "## Second-order Linear Homogeneous equations\n",
    "\n",
    "This notebook helps to visualize the solutions to the equation \n",
    "$$\\frac{d^2y}{dt^2} + m \\frac{dy}{dy} + ky = 0$$\n",
    "and how they relate to the complex roots of the **characteristic polynomial** $r^2 + mr + k$. \n",
    "\n",
    "The key thing to notice is how the *qualitative* behaviour of the system changes depending on where the roots are located in the complex plane in precise way. "
   ]
  },
  {
   "cell_type": "code",
   "execution_count": 1,
   "metadata": {
    "collapsed": false
   },
   "outputs": [
    {
     "data": {
      "application/vnd.jupyter.widget-view+json": {
       "model_id": "8a00645c93444925bda4a2edb3c76101",
       "version_major": 2,
       "version_minor": 0
      },
      "text/plain": [
       "Manual interactive function <function plot_2nd_order_homogeneous at 0x7f552db6f310> with 4 widgets\n",
       "  m: Transf…"
      ]
     },
     "execution_count": 1,
     "metadata": {
     },
     "output_type": "execute_result"
    }
   ],
   "source": [
    "@interact\n",
    "def plot_2nd_order_homogeneous(m = slider(vmin = -5, vmax = 5, default = 1, step_size = 0.02, label = \"$m$\"),\n",
    "                               k = slider(vmin = -5, vmax = 5, default = 1.5, step_size = 0.02, label = '$k$'), \n",
    "                               y0 = slider(vmin = -3, vmax = 3, default = 1, step_size = 0.1, label = '$y(0) = $'),\n",
    "                               yp0 = slider(vmin = -3, vmax = 3, default = 0, step_size = 0.1, label = '$y\\'(0) = $'),\n",
    "                               auto_update = False):\n",
    "    t = var('t')\n",
    "    roots = [-m/2 + sqrt(m^2 - 4*k)/2, -m/2 - sqrt(m^2 - 4*k)/2]\n",
    "    rootsa = [CDF(a).numerical_approx(digits = 3) for a in roots]\n",
    "    show(\"\\\\text{roots of } r^2 + mr + k \\\\text{:}\\\\qquad  \" + latex(rootsa[0]) + \"\\\\text{ and }\" +  latex(rootsa[1]))\n",
    "    show(point(rootsa[0], size = 20, color = 'red') + \n",
    "            point(rootsa[1], size = 20, color = 'red'),\n",
    "            figsize = [3,2], \n",
    "            xmin = min(-4, -abs(rootsa[0]),  -abs(rootsa[1])), xmax = max(3, abs(rootsa[0]),   abs(rootsa[1])), \n",
    "            ymin = min(-5, -abs(imag(rootsa[0]))), ymax = max(5, abs(imag(rootsa[0]))), \n",
    "            title = \"Roots\")\n",
    "    sols = [exp(rootsa[0]*t), exp(rootsa[1]*t)] if rootsa[0] != rootsa[1] else [exp(rootsa[0]*t), t*exp(rootsa[0]*t)]\n",
    "    cv1, cv2 = var('cv1,cv2')\n",
    "    solve_c = solve([cv1*sols[0](t = 0) + cv2*sols[1](t =  0) == y0, \n",
    "                     cv1*diff(sols[0], t)( t= 0) + cv2*diff(sols[1], t)( t= 0) == yp0],\n",
    "                    cv1, cv2, solution_dict = True)\n",
    "    c1,c2 = solve_c[0][cv1], solve_c[0][cv2]\n",
    "    show(plot(real(c1*sols[0] + c2*sols[1]), (t,0, 8), \n",
    "              title = \"Solution plot\"), ymin = -7, ymax = 7)"
   ]
  },
  {
   "cell_type": "code",
   "execution_count": 0,
   "metadata": {
    "collapsed": false
   },
   "outputs": [
   ],
   "source": [
   ]
  }
 ],
 "metadata": {
  "kernelspec": {
   "display_name": "SageMath 9.2",
   "language": "sagemath",
   "metadata": {
    "cocalc": {
     "description": "Open-source mathematical software system",
     "priority": 10,
     "url": "https://www.sagemath.org/"
    }
   },
   "name": "sage-9.2",
   "resource_dir": "/ext/jupyter/kernels/sage-9.2"
  },
  "language_info": {
   "codemirror_mode": {
    "name": "ipython",
    "version": 3
   },
   "file_extension": ".py",
   "mimetype": "text/x-python",
   "name": "python",
   "nbconvert_exporter": "python",
   "pygments_lexer": "ipython3",
   "version": "3.8.5"
  }
 },
 "nbformat": 4,
 "nbformat_minor": 4
}