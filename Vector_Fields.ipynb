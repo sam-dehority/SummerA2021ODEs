{
 "cells": [
  {
   "cell_type": "markdown",
   "metadata": {
    "collapsed": false
   },
   "source": [
    "# Plotting vector fields\n",
    "\n",
    "Similar to the previous notebook, which plotted slope fields, this notebook contains an interactive element which plots a vector field. Into the box input a vector function \n",
    "of the variables $x$ and $y$ of the form \n",
    "$$v(x,y) = (v_1(x,y), v_2(x,y))$$\n",
    "\n"
   ]
  },
  {
   "cell_type": "code",
   "execution_count": 15,
   "metadata": {
    "collapsed": false
   },
   "outputs": [
    {
     "data": {
      "application/vnd.jupyter.widget-view+json": {
       "model_id": "5b0b34750630451b9b38246919e6d96a",
       "version_major": 2,
       "version_minor": 0
      },
      "text/plain": [
       "Interactive function <function show_vector_field at 0x7faf608f3820> with 4 widgets\n",
       "  xrange: TransformFloatSli…"
      ]
     },
     "execution_count": 15,
     "metadata": {
     },
     "output_type": "execute_result"
    }
   ],
   "source": [
    "x,y = var('x,y')\n",
    "@interact\n",
    "def show_vector_field(xrange = slider(1, 10, .5, default = 3), yrange = slider(1,10, .5, default = 3), v = input_box((sin(x), cos(y)), label = '$v(x,y)$'), streamline = checkbox(False, label = \"streamline plot\")):\n",
    "    if streamline: \n",
    "        show(streamline_plot(v, (x,-xrange, xrange), (y,-yrange, yrange)))\n",
    "    else:\n",
    "        show(plot_vector_field(v, (x,-xrange,xrange), (y,-yrange,yrange)))"
   ]
  },
  {
   "cell_type": "markdown",
   "metadata": {
    "collapsed": false
   },
   "source": [
    "## Plotting vector field with flow lines\n",
    "\n",
    "If you see above, checking the \"steamline\" button produced a \"streamline plot\" with solutions curves. We can select a few initial conditions and plot them with the vector field below. Now instead of specifying only $y(0)$ as in the `Slope_Fields` notebook, we can specify a starting *point*. (Feel free to modify the other page to work in this more general situation!)"
   ]
  },
  {
   "cell_type": "code",
   "execution_count": 25,
   "metadata": {
    "collapsed": false
   },
   "outputs": [
    {
     "data": {
      "application/vnd.jupyter.widget-view+json": {
       "model_id": "a9b969356d9a4e8f8cece4c9d8640b72",
       "version_major": 2,
       "version_minor": 0
      },
      "text/plain": [
       "Interactive function <function show_vector_field_curves at 0x7faf5ef26f70> with 4 widgets\n",
       "  xrange: TransformF…"
      ]
     },
     "execution_count": 25,
     "metadata": {
     },
     "output_type": "execute_result"
    }
   ],
   "source": [
    "x,y = var('x,y')\n",
    "@interact\n",
    "def show_vector_field_curves(xrange = slider(1, 10, .5, default = 5), yrange = slider(1,10, .5, default = 5), v = input_box((x + y , x ^2 + 1), label = '$v(x,y)$'), ics = input_box([(1,1), (2,3), (-1,1)], label = \"$(x(0), y(0))$\")):\n",
    "    g = plot_vector_field(v, (x,-xrange,xrange), (y,-yrange,yrange))\n",
    "    g += streamline_plot(v, (x,-xrange,yrange), (y,-yrange,yrange), start_points=ics)\n",
    "    g += point(ics, color='red', size = 20)\n",
    "    show(g)\n"
   ]
  },
  {
   "cell_type": "markdown",
   "metadata": {
    "collapsed": false
   },
   "source": [
    "## 3D Vector Fields\n",
    "\n",
    "We can also fairly straightforwardly generalize this to the next dimension we can visualize and plot 3d vector fields. Now \n",
    "\n",
    "$$v(x,y,z) = (v_1(x,y,z), v_2(x,y,z), v_3(x,y,z))$$\n",
    "\n",
    "has three components. \n"
   ]
  },
  {
   "cell_type": "code",
   "execution_count": 29,
   "metadata": {
    "collapsed": false
   },
   "outputs": [
    {
     "data": {
      "application/vnd.jupyter.widget-view+json": {
       "model_id": "2c44bca0432c4f5bae3aea73e4503f59",
       "version_major": 2,
       "version_minor": 0
      },
      "text/plain": [
       "Interactive function <function show_vector_field at 0x7faf5e553940> with 4 widgets\n",
       "  xrange: TransformFloatSli…"
      ]
     },
     "execution_count": 29,
     "metadata": {
     },
     "output_type": "execute_result"
    }
   ],
   "source": [
    "x,y,z=var('x y z')\n",
    "@interact\n",
    "def show_vector_field(xrange = slider(1, 10, .5, default = 3), yrange = slider(1,10, .5, default = 3), zrange = slider(1,10, .5, default = 3), v = input_box((-y,x, z), label = '$v(x,y,z)$')):\n",
    "    show(plot_vector_field3d(v, (x,-xrange,xrange), (y,-yrange,yrange), (z, -zrange, zrange)))"
   ]
  },
  {
   "cell_type": "code",
   "execution_count": 0,
   "metadata": {
    "collapsed": false
   },
   "outputs": [
   ],
   "source": [
   ]
  }
 ],
 "metadata": {
  "kernelspec": {
   "display_name": "SageMath 9.2",
   "language": "sagemath",
   "metadata": {
    "cocalc": {
     "description": "Open-source mathematical software system",
     "priority": 10,
     "url": "https://www.sagemath.org/"
    }
   },
   "name": "sage-9.2",
   "resource_dir": "/ext/jupyter/kernels/sage-9.2"
  },
  "language_info": {
   "codemirror_mode": {
    "name": "ipython",
    "version": 3
   },
   "file_extension": ".py",
   "mimetype": "text/x-python",
   "name": "python",
   "nbconvert_exporter": "python",
   "pygments_lexer": "ipython3",
   "version": "3.8.5"
  }
 },
 "nbformat": 4,
 "nbformat_minor": 4
}