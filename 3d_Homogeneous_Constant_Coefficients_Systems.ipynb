{
 "cells": [
  {
   "cell_type": "markdown",
   "metadata": {
    "collapsed": false
   },
   "source": [
    "# 3d Homogeneous constant coefficient systems\n",
    "\n",
    "This notebook will assist in creating plots of the vector field and solution curves of 3-dimensional linear homogeneous systems with constant coefficients. These are of the form \n",
    "$$x' = Ax$$ where $A$ is a $3\\times 3$ matrix.\n",
    "\n",
    "Note: we want to input a matrix $A$ as a \"list of lists\" of the type `[[1,2,3],[4,5,6],[7,8,9]]` corresponding to the matrix \n",
    "$$\\begin{pmatrix} 1&2&3 \\\\ 4&5&6 \\\\ 7&8&9\\end{pmatrix}.$$"
   ]
  },
  {
   "cell_type": "code",
   "execution_count": 2,
   "metadata": {
    "collapsed": false,
    "scrolled": true
   },
   "outputs": [
    {
     "data": {
      "application/vnd.jupyter.widget-view+json": {
       "model_id": "a3a4fb35514d4d4f87ced4d78b2fc569",
       "version_major": 2,
       "version_minor": 0
      },
      "text/plain": [
       "Manual interactive function <function plot_vector_fields_and_solution_curves at 0x7f318cbefd30> with 6 widgets…"
      ]
     },
     "execution_count": 2,
     "metadata": {
     },
     "output_type": "execute_result"
    }
   ],
   "source": [
    "import warnings\n",
    "warnings.filterwarnings(\"ignore\", category=UserWarning)\n",
    "@interact\n",
    "def plot_vector_fields_and_solution_curves(\n",
    "        a = input_box(default = [[1,1,2],[0,-1,2],[0,0,2]], label = '$A$'),\n",
    "        num_ics = slider(default = 10, vmin = 0, vmax = 25, label = \"# of curves\"),\n",
    "        xrange = slider(1, 10, .5, default = 3), \n",
    "        yrange = slider(1,10, .5, default = 3), \n",
    "        zrange = slider(1,10, .5, default = 3),\n",
    "        vector_density = slider(5,30,default = 7, label = \"Vector density\"),\n",
    "        auto_update = False):\n",
    "    x,y,z = var('x,y,z')\n",
    "    A = Matrix(a).numerical_approx(digits = 2)\n",
    "    v = A*vector((x,y,z))\n",
    "    show(\"A = \" + latex(A))\n",
    "    t = var('t')\n",
    "    x1,x2,x3 = function('x1')(t), function('x2')(t), function('x3')(t)\n",
    "    RHS = A*vector((x1,x2,x3))\n",
    "    LHS = [diff(v,t) for v in [x1,x2,x3]]\n",
    "    des = [LHS[i] - RHS[i] == 0 for i in [0,1,2]]\n",
    "    ic_list = [[0,RR.random_element(-xrange/2,xrange/2),\n",
    "                RR.random_element(-yrange/2,yrange/2),\n",
    "                RR.random_element(-zrange/2,zrange/2)] for i in range(num_ics)]\n",
    "    solns = [desolve_system(des, [x1,x2,x3], ics = ic) for ic in ic_list]\n",
    "    curves = [(sol[0].rhs(), sol[1].rhs(), sol[2].rhs()) for sol in solns]\n",
    "    step = 0.01\n",
    "    def evol(curve, positive):\n",
    "        tcurr = 0\n",
    "        while -xrange < curve[0](t = tcurr) < xrange and -yrange < curve[1](t = tcurr) < yrange and -zrange < curve[2](t = tcurr) < zrange and abs(tcurr) < 4:\n",
    "            yield (curve[0](t= tcurr), curve[1](t = tcurr), curve[2](t = tcurr))\n",
    "            tcurr = tcurr + step if positive else tcurr - step\n",
    "    lists = [list(reversed(list(evol(c, False)))) + list(evol(c, True)) for c in curves]\n",
    "    curves_plots = [list_plot(c, plotjoined = True, color = 'red') for c in lists]\n",
    "    show(sum(curves_plots)  + plot_vector_field3d(v, (x,-xrange,xrange), (y,-yrange,yrange), (z, -zrange, zrange), colors = 'blue', plot_points = vector_density, opacity = 0.4))\n",
    "    evs = [CDF(l).numerical_approx(digits =2) for l in A.eigenvalues()]\n",
    "    show(point(evs, size = 12, title = f\"Eigenvalues $\\\\lambda = {evs[0]}, {evs[1]}, {evs[2]}$\", figsize = 3, color = 'red'))"
   ]
  },
  {
   "cell_type": "code",
   "execution_count": 86,
   "metadata": {
    "collapsed": false
   },
   "outputs": [
    {
     "data": {
      "text/plain": [
       "[[0.500000000000000, -1, 0],\n",
       " [1, 0.500000000000000, 0],\n",
       " [0, 0, -1.50000000000000]]"
      ]
     },
     "execution_count": 86,
     "metadata": {
     },
     "output_type": "execute_result"
    }
   ],
   "source": [
    "# Some matrices to try\n",
    "[[0,-1,0],[1,0,0],[0,0,1.5]]\n",
    "[[.5,-1,0],[1,.5,0],[0,0,1.5]]\n",
    "[[-2,0,0],[0,1,0],[0,0,3]]\n",
    "[[.5,-1,0],[1,.5,0],[0,0,-1.5]]\n",
    "[[.5,-1,0],[1,.5,0],[0,0,.5]]\n",
    "[[2,1,0],[0,2,0],[0,0,1]]\n",
    "[[3,1,0],[0,3,1],[0,0,3]]"
   ]
  }
 ],
 "metadata": {
  "kernelspec": {
   "display_name": "SageMath 9.2",
   "language": "sagemath",
   "metadata": {
    "cocalc": {
     "description": "Open-source mathematical software system",
     "priority": 1,
     "url": "https://www.sagemath.org/"
    }
   },
   "name": "sage-9.2",
   "resource_dir": "/ext/jupyter/kernels/sage-9.2"
  },
  "language_info": {
   "codemirror_mode": {
    "name": "ipython",
    "version": 3
   },
   "file_extension": ".py",
   "mimetype": "text/x-python",
   "name": "python",
   "nbconvert_exporter": "python",
   "pygments_lexer": "ipython3",
   "version": "3.8.5"
  }
 },
 "nbformat": 4,
 "nbformat_minor": 4
}